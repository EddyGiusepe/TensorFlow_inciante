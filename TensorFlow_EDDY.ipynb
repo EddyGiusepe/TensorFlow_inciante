{
 "cells": [
  {
   "cell_type": "markdown",
   "metadata": {},
   "source": [
    "# TensorFlow para iniciantes\n",
    "professor: **Natanael** \n",
    "\n",
    "**O link é:**\n",
    "\n",
    "[https://www.youtube.com/watch?v=JHsnHgb9hDo&list=PLyqOvdQmGdTR_X-BxOJCPIibdjQ_hXycV](https://www.youtube.com/watch?v=JHsnHgb9hDo&list=PLyqOvdQmGdTR_X-BxOJCPIibdjQ_hXycV)\n",
    "\n",
    "\n",
    "**O que é TensorFlow**\n",
    "É uma biblioteca de código usada para _inteligência artificial_ e também para computação numérica. Foi criado pelo Google, TensorFlow é um FrameWork (existem outros:  Keras, Teany, etc)\n",
    "\n",
    "Alguns pre-requisitos: Saber Python.   \n",
    "\n",
    "\n",
    "**Agora vamos a instalar o TensorFlow** utilizando Anaconda\n"
   ]
  },
  {
   "cell_type": "code",
   "execution_count": null,
   "metadata": {},
   "outputs": [],
   "source": [
    "import tensorflow as tf\n"
   ]
  },
  {
   "cell_type": "code",
   "execution_count": 3,
   "metadata": {},
   "outputs": [
    {
     "name": "stdout",
     "output_type": "stream",
     "text": [
      "2.1.0\n"
     ]
    }
   ],
   "source": [
    "import tensorflow as tf\n",
    "\n",
    "print(tf.__version__)"
   ]
  },
  {
   "cell_type": "code",
   "execution_count": null,
   "metadata": {},
   "outputs": [],
   "source": [
    "frase = tf.constant('Olá, mundo!')\n",
    "with tf.Session() as sess:\n",
    "    rodar = sess.run(frase)\n",
    "print(rodar.decode('UFT-8'))    "
   ]
  },
  {
   "cell_type": "code",
   "execution_count": null,
   "metadata": {},
   "outputs": [],
   "source": [
    "\n",
    "msg = tf.constant('Hello, TensorFlow!')\n",
    "sess = tf.Session()\n",
    "print(sess.run(msg))\n",
    "\n"
   ]
  },
  {
   "cell_type": "code",
   "execution_count": null,
   "metadata": {},
   "outputs": [],
   "source": [
    "msg = tf.constant('Olá mundo!, TensorFlow!')\n",
    "tf.print(msg)"
   ]
  },
  {
   "cell_type": "markdown",
   "metadata": {},
   "source": [
    "### Praticando com time"
   ]
  },
  {
   "cell_type": "code",
   "execution_count": null,
   "metadata": {},
   "outputs": [],
   "source": [
    "import time\n",
    "import timeit\n",
    "\n",
    "\n",
    "def alguma_funcao():\n",
    "    for i in range(1, 10):\n",
    "        time.sleep(1)\n",
    "\n",
    "inicio = timeit.default_timer()\n",
    "alguma_funcao()\n",
    "fim = timeit.default_timer()\n",
    "print ('duracao: %f' % (fim - inicio))"
   ]
  },
  {
   "cell_type": "code",
   "execution_count": null,
   "metadata": {},
   "outputs": [],
   "source": [
    "import time\n",
    "\n",
    "start = time.time()\n",
    "print(\"Hi everyone! Have a nice day!\")\n",
    "print(\"Hi everyone! Have a nice day!\")\n",
    "print(\"Hi everyone! Have a nice day!\")\n",
    "print(\"Hi everyone! Have a nice day!\")\n",
    "print(\"Hi everyone! Have a nice day!\")\n",
    "print(\"Hi everyone! Have a nice day!\")\n",
    "print(\"Hi everyone! Have a nice day!\")\n",
    "print(\"Hi everyone! Have a nice day!\")\n",
    "print(\"Hi everyone! Have a nice day!\")\n",
    "print(\"Hi everyone! Have a nice day!\")\n",
    " \n",
    "end = time.time()\n",
    "Min = (end -start) // 60\n",
    "sec = (end -start) % 60\n",
    " \n",
    "print(\"Total computation time is %s Minutes %s Seconds\" %(Min, sec))"
   ]
  },
  {
   "cell_type": "markdown",
   "metadata": {},
   "source": [
    "##### Grafos no TensorFlow \n"
   ]
  },
  {
   "cell_type": "code",
   "execution_count": null,
   "metadata": {},
   "outputs": [],
   "source": [
    "a = tf.constant(5)\n",
    "b = tf.constant(3)\n",
    "c = tf.constant(2)\n",
    "\n",
    "\n",
    "d = tf.multiply(a, b)\n",
    "e = tf.add(b, c)\n",
    "f = tf.subtract(d, e)\n",
    "\n"
   ]
  },
  {
   "cell_type": "code",
   "execution_count": null,
   "metadata": {},
   "outputs": [],
   "source": [
    "print('Nossos resultados são: ')\n",
    "tf.print(d)\n",
    "tf.print(e)\n",
    "tf.print(f)"
   ]
  },
  {
   "cell_type": "markdown",
   "metadata": {},
   "source": [
    "##### O que é um tensor"
   ]
  },
  {
   "cell_type": "code",
   "execution_count": null,
   "metadata": {},
   "outputs": [],
   "source": [
    "a = tf.constant(2) # 1x1\n",
    "b = tf.constant([3, 1, 5, 8, 6]) # 1xn\n",
    "c = tf.constant([[2, 0, 4], \n",
    "                 [3, 5, 7]]) # nxn\n",
    "\n",
    "# Nos exemplos acima, \"a\" é um tensor 0-dimensional (escalar)\n",
    "# \"b\" é um tensor 1-dimensional (vetor) e \"c\" é 2-dimensional (matriz)."
   ]
  },
  {
   "cell_type": "code",
   "execution_count": null,
   "metadata": {},
   "outputs": [],
   "source": [
    "import numpy as np\n",
    "\n",
    "\n",
    "a1 = np.array(2)\n",
    "b2 = np.array([3, 1, 5, 8, 6]) # 1xn\n",
    "c1 = np.array([[2, 0, 4], \n",
    "               [3, 5, 7]]) # nxn\n",
    "\n",
    "\n",
    "# Muito parecido com numpy !"
   ]
  },
  {
   "cell_type": "code",
   "execution_count": null,
   "metadata": {},
   "outputs": [],
   "source": [
    "print(a.shape)"
   ]
  },
  {
   "cell_type": "code",
   "execution_count": null,
   "metadata": {},
   "outputs": [],
   "source": [
    "print(c1.shape)"
   ]
  },
  {
   "cell_type": "code",
   "execution_count": null,
   "metadata": {},
   "outputs": [],
   "source": [
    "const = tf.constant(4)"
   ]
  },
  {
   "cell_type": "code",
   "execution_count": null,
   "metadata": {},
   "outputs": [],
   "source": [
    "print(const)"
   ]
  },
  {
   "cell_type": "markdown",
   "metadata": {},
   "source": [
    "##### Multiplicação de matrizes no TensorFlow"
   ]
  },
  {
   "cell_type": "code",
   "execution_count": null,
   "metadata": {},
   "outputs": [],
   "source": [
    "import tensorflow as tf"
   ]
  },
  {
   "cell_type": "code",
   "execution_count": null,
   "metadata": {},
   "outputs": [],
   "source": [
    "A = tf.constant([[1, 2, 3], \n",
    "                 [4, 5, 6]])\n",
    "\n",
    "B = tf.constant([[0, 0],\n",
    "                 [1, 0],\n",
    "                 [0, 1]])"
   ]
  },
  {
   "cell_type": "code",
   "execution_count": null,
   "metadata": {},
   "outputs": [],
   "source": [
    "tf.print(B)"
   ]
  },
  {
   "cell_type": "code",
   "execution_count": null,
   "metadata": {},
   "outputs": [],
   "source": [
    "resultado = tf.matmul(A, B)"
   ]
  },
  {
   "cell_type": "code",
   "execution_count": null,
   "metadata": {},
   "outputs": [],
   "source": [
    "tf.print(resultado)"
   ]
  },
  {
   "cell_type": "code",
   "execution_count": null,
   "metadata": {},
   "outputs": [],
   "source": [
    "transposta = tf.transpose(A)"
   ]
  },
  {
   "cell_type": "code",
   "execution_count": null,
   "metadata": {},
   "outputs": [],
   "source": [
    "tf.print(transposta)"
   ]
  },
  {
   "cell_type": "markdown",
   "metadata": {},
   "source": [
    "##### Variáveis no TensorFlow"
   ]
  },
  {
   "cell_type": "code",
   "execution_count": null,
   "metadata": {},
   "outputs": [],
   "source": [
    "variavel = tf.Variable(2)"
   ]
  },
  {
   "cell_type": "code",
   "execution_count": null,
   "metadata": {},
   "outputs": [],
   "source": [
    "tf.print(variavel)"
   ]
  },
  {
   "cell_type": "markdown",
   "metadata": {},
   "source": [
    "### Primeiro exemplo \n",
    "\n",
    "Este programa é de **Rafael Vieira Coelho**. É sobre o uso de redes neurais através da biblioteca **TensorFlow** e o **GitHUb** é: \n",
    "\n",
    "[https://github.com/rafael-vieira-coelho/tensorflow/tree/aula01_Introdu%C3%A7%C3%A3o](https://github.com/rafael-vieira-coelho/tensorflow/tree/aula01_Introdu%C3%A7%C3%A3o)"
   ]
  },
  {
   "cell_type": "code",
   "execution_count": null,
   "metadata": {},
   "outputs": [],
   "source": [
    "import tensorflow as tf\n",
    "\n",
    "\n",
    "def main():\n",
    "    msg = tf.constant('Hello, TensorFlow')\n",
    "    tf.print(msg)\n",
    "    \n",
    "#if __name__ == '__main__':\n",
    " #   main()"
   ]
  },
  {
   "cell_type": "code",
   "execution_count": null,
   "metadata": {},
   "outputs": [],
   "source": [
    "main()"
   ]
  },
  {
   "cell_type": "code",
   "execution_count": null,
   "metadata": {},
   "outputs": [],
   "source": [
    "from tensorflow import *\n",
    "import numpy as np\n",
    "'''\n",
    "Problem:\n",
    "Y = 2 * X - 1\n",
    "'''\n",
    "def main():\n",
    "    # cria o modelo sequencial com 1 camada (1 neurônio) e \n",
    "    # 1 dado de entrada\n",
    "    model = keras.Sequential([keras.layers.Dense(units=1, \n",
    "                                                 input_shape=[1])]) \n",
    "    #Dense representa uma camada de neurônios conectados\n",
    "    \n",
    "    model.compile(optimizer='sgd', loss='mean_squared_error') \n",
    "    #define a forma como vai ser calculado o erro (médio quadrático)\n",
    "\n",
    "    \n",
    "    # inicializa os dados de entrada como dois arrays\n",
    "    xs = np.array([-1.0, 0.0, 1.0, 2.0, 3.0, 4.0], dtype=float)\n",
    "    ys = np.array([-3.0, -1.0, 1.0, 3.0, 5.0, 7.0], dtype=float)\n",
    "\n",
    "    # define o modelo (exemplos e épocas) para o treinamento\n",
    "    model.fit(xs, ys, epochs=500)\n",
    "    \n",
    "    #Cuidado para não causar um \"overtrainer\" epochs=valorMuitoGRANDE \n",
    "\n",
    "    # faz a predição do modelo para o valor de entrada 10\n",
    "    print(model.predict([10.0]))\n",
    "\n",
    "\n",
    "if __name__ == '__main__':\n",
    "    main()\n"
   ]
  },
  {
   "cell_type": "markdown",
   "metadata": {},
   "source": [
    "## Início rápido do TensorFlow 2 para iniciantes\n",
    "\n",
    "Esta breve introdução usa Keras para:\n",
    "\n",
    "1. Construa uma rede neural que classifica as imagens.\n",
    "2. Treine essa rede neural.\n",
    "3. E, por fim, avalie a precisão do modelo.\n",
    "\n",
    "\n",
    "Este é um arquivo de notebook do [Google Colaboratory](https://colab.research.google.com/notebooks/welcome.ipynb?hl=pt_br). Os programas Python são executados diretamente no navegador - uma ótima maneira de aprender e usar o TensorFlow. Para seguir este tutorial, execute o notebook no Google Colab clicando no botão na parte superior desta página. "
   ]
  },
  {
   "cell_type": "code",
   "execution_count": 1,
   "metadata": {},
   "outputs": [],
   "source": [
    "import tensorflow as tf"
   ]
  },
  {
   "cell_type": "markdown",
   "metadata": {},
   "source": [
    "Carregue e prepare o [conjunto de dados MNIST](http://yann.lecun.com/exdb/mnist/) . Converta as amostras de números inteiros em números de ponto flutuante:"
   ]
  },
  {
   "cell_type": "code",
   "execution_count": 14,
   "metadata": {},
   "outputs": [],
   "source": [
    "mnist = tf.keras.datasets.mnist\n",
    "\n",
    "(x_train, y_train), (x_test, y_test) = mnist.load_data()\n",
    "x_train, x_test = x_train / 255.0, x_test / 255.0"
   ]
  },
  {
   "cell_type": "markdown",
   "metadata": {},
   "source": [
    "Construa o modelo [tf.keras.Sequential](https://www.tensorflow.org/api_docs/python/tf/keras/Sequential?hl=pt_br) empilhando camadas. Escolha um otimizador e função de perda para o treinamento:"
   ]
  },
  {
   "cell_type": "code",
   "execution_count": 3,
   "metadata": {},
   "outputs": [],
   "source": [
    "model = tf.keras.models.Sequential([\n",
    "  tf.keras.layers.Flatten(input_shape=(28, 28)),\n",
    "  tf.keras.layers.Dense(128, activation='relu'),\n",
    "  tf.keras.layers.Dropout(0.2),\n",
    "  tf.keras.layers.Dense(10)\n",
    "])"
   ]
  },
  {
   "cell_type": "markdown",
   "metadata": {},
   "source": [
    "Para cada exemplo, o modelo retorna um vetor de pontuações \"[logits](https://developers.google.com/machine-learning/glossary?hl=pt_br#logits)\" ou \"[log-odds](https://developers.google.com/machine-learning/glossary?hl=pt_br#log-odds)\", um para cada classe."
   ]
  },
  {
   "cell_type": "code",
   "execution_count": 4,
   "metadata": {},
   "outputs": [
    {
     "name": "stdout",
     "output_type": "stream",
     "text": [
      "WARNING:tensorflow:Layer flatten is casting an input tensor from dtype float64 to the layer's dtype of float32, which is new behavior in TensorFlow 2.  The layer has dtype float32 because it's dtype defaults to floatx.\n",
      "\n",
      "If you intended to run this layer in float32, you can safely ignore this warning. If in doubt, this warning is likely only an issue if you are porting a TensorFlow 1.X model to TensorFlow 2.\n",
      "\n",
      "To change all layers to have dtype float64 by default, call `tf.keras.backend.set_floatx('float64')`. To change just this layer, pass dtype='float64' to the layer constructor. If you are the author of this layer, you can disable autocasting by passing autocast=False to the base Layer constructor.\n",
      "\n"
     ]
    },
    {
     "data": {
      "text/plain": [
       "array([[-0.55996174, -0.3156253 ,  0.10074907, -0.49033907,  0.4021016 ,\n",
       "        -0.19028826,  0.48227295, -0.69446814, -0.1660317 ,  0.35120046]],\n",
       "      dtype=float32)"
      ]
     },
     "execution_count": 4,
     "metadata": {},
     "output_type": "execute_result"
    }
   ],
   "source": [
    "predictions = model(x_train[:1]).numpy()\n",
    "predictions"
   ]
  },
  {
   "cell_type": "markdown",
   "metadata": {},
   "source": [
    "A função [tf.nn.softmax](https://www.tensorflow.org/api_docs/python/tf/nn/softmax?hl=pt_br) converte esses logits em \"probabilidades\" para cada classe:"
   ]
  },
  {
   "cell_type": "code",
   "execution_count": 5,
   "metadata": {},
   "outputs": [
    {
     "data": {
      "text/plain": [
       "array([[0.05872301, 0.074976  , 0.11369761, 0.06295715, 0.15368345,\n",
       "        0.08498757, 0.16651182, 0.05133256, 0.08707429, 0.14605653]],\n",
       "      dtype=float32)"
      ]
     },
     "execution_count": 5,
     "metadata": {},
     "output_type": "execute_result"
    }
   ],
   "source": [
    "tf.nn.softmax(predictions).numpy()"
   ]
  },
  {
   "cell_type": "markdown",
   "metadata": {},
   "source": [
    "As [losses.SparseCategoricalCrossentropy](https://www.tensorflow.org/api_docs/python/tf/keras/losses/SparseCategoricalCrossentropy?hl=pt_br) loss pega um vetor de logits e um índice `True` e retorna uma perda escalar para cada exemplo."
   ]
  },
  {
   "cell_type": "code",
   "execution_count": 6,
   "metadata": {},
   "outputs": [],
   "source": [
    "loss_fn = tf.keras.losses.SparseCategoricalCrossentropy(from_logits=True)"
   ]
  },
  {
   "cell_type": "markdown",
   "metadata": {},
   "source": [
    "Essa perda é igual ao log de probabilidade negativo da classe verdadeira: será zero se o modelo tiver certeza da classe correta.\n",
    "\n",
    "Este modelo não treinado fornece probabilidades próximas ao aleatório (1/10 para cada classe), então a perda inicial deve ser próxima a `-tf.log(1/10) ~= 2.3`."
   ]
  },
  {
   "cell_type": "code",
   "execution_count": 7,
   "metadata": {},
   "outputs": [
    {
     "data": {
      "text/plain": [
       "2.4652503"
      ]
     },
     "execution_count": 7,
     "metadata": {},
     "output_type": "execute_result"
    }
   ],
   "source": [
    "loss_fn(y_train[:1], predictions).numpy()"
   ]
  },
  {
   "cell_type": "code",
   "execution_count": 8,
   "metadata": {},
   "outputs": [],
   "source": [
    "model.compile(optimizer='adam',\n",
    "              loss=loss_fn,\n",
    "              metrics=['accuracy'])"
   ]
  },
  {
   "cell_type": "markdown",
   "metadata": {},
   "source": [
    "O método `Model.fit` ajusta os parâmetros do modelo para minimizar a perda:"
   ]
  },
  {
   "cell_type": "code",
   "execution_count": 9,
   "metadata": {},
   "outputs": [
    {
     "name": "stdout",
     "output_type": "stream",
     "text": [
      "Train on 60000 samples\n",
      "Epoch 1/5\n",
      "60000/60000 [==============================] - 10s 164us/sample - loss: 0.2941 - accuracy: 0.9146\n",
      "Epoch 2/5\n",
      "60000/60000 [==============================] - 8s 131us/sample - loss: 0.1437 - accuracy: 0.9576\n",
      "Epoch 3/5\n",
      "60000/60000 [==============================] - 9s 143us/sample - loss: 0.1098 - accuracy: 0.9668\n",
      "Epoch 4/5\n",
      "60000/60000 [==============================] - 8s 136us/sample - loss: 0.0893 - accuracy: 0.9728\n",
      "Epoch 5/5\n",
      "60000/60000 [==============================] - 8s 138us/sample - loss: 0.0762 - accuracy: 0.9767\n"
     ]
    },
    {
     "data": {
      "text/plain": [
       "<tensorflow.python.keras.callbacks.History at 0x279016fbb48>"
      ]
     },
     "execution_count": 9,
     "metadata": {},
     "output_type": "execute_result"
    }
   ],
   "source": [
    "model.fit(x_train, y_train, epochs=5)"
   ]
  },
  {
   "cell_type": "markdown",
   "metadata": {},
   "source": [
    "O método `Model.evaluate` verifica o desempenho dos modelos, geralmente em um \"[Conjunto de validação](https://developers.google.com/machine-learning/glossary?hl=pt_br#validation-set)\" ou \"[Conjunto de teste](https://developers.google.com/machine-learning/glossary?hl=pt_br#test-set)\"."
   ]
  },
  {
   "cell_type": "code",
   "execution_count": 10,
   "metadata": {},
   "outputs": [
    {
     "name": "stdout",
     "output_type": "stream",
     "text": [
      "10000/10000 - 1s - loss: 0.0780 - accuracy: 0.9758\n"
     ]
    },
    {
     "data": {
      "text/plain": [
       "[0.07796974822247867, 0.9758]"
      ]
     },
     "execution_count": 10,
     "metadata": {},
     "output_type": "execute_result"
    }
   ],
   "source": [
    "model.evaluate(x_test,  y_test, verbose=2)"
   ]
  },
  {
   "cell_type": "markdown",
   "metadata": {},
   "source": [
    "O classificador de imagem agora é treinado para uma precisão de aproximadamente 98% neste conjunto de dados. Para saber mais, leia os [tutoriais](https://www.tensorflow.org/tutorials/?hl=pt_br) do [TensorFlow](https://www.tensorflow.org/tutorials/?hl=pt_br).\n",
    "\n",
    "Se você quiser que seu modelo retorne uma probabilidade, você pode embrulhar o modelo treinado e anexar o softmax a ele:"
   ]
  },
  {
   "cell_type": "code",
   "execution_count": 11,
   "metadata": {},
   "outputs": [],
   "source": [
    "probability_model = tf.keras.Sequential([\n",
    "  model,\n",
    "  tf.keras.layers.Softmax()\n",
    "])"
   ]
  },
  {
   "cell_type": "code",
   "execution_count": 12,
   "metadata": {},
   "outputs": [
    {
     "data": {
      "text/plain": [
       "<tf.Tensor: shape=(5, 10), dtype=float32, numpy=\n",
       "array([[1.4942504e-08, 1.4091747e-08, 2.6182019e-05, 3.1750384e-05,\n",
       "        2.4554452e-11, 5.3744401e-07, 1.2151145e-14, 9.9994111e-01,\n",
       "        8.9665404e-09, 2.9909813e-07],\n",
       "       [7.5902717e-10, 1.2775806e-04, 9.9977666e-01, 9.5537274e-05,\n",
       "        5.7853555e-17, 2.0522561e-09, 1.0301928e-09, 1.5610417e-13,\n",
       "        2.8491778e-09, 6.6725393e-15],\n",
       "       [1.3443058e-06, 9.9868339e-01, 6.8497837e-05, 4.5064071e-06,\n",
       "        6.0218540e-06, 1.5796244e-04, 3.1075000e-05, 1.0094788e-03,\n",
       "        3.6750120e-05, 9.1899972e-07],\n",
       "       [9.9990606e-01, 4.1965227e-09, 7.9823367e-05, 7.0567090e-08,\n",
       "        7.9950598e-07, 8.1484302e-08, 5.6239210e-06, 7.1030477e-06,\n",
       "        2.5661784e-09, 2.8443148e-07],\n",
       "       [9.5757264e-07, 3.8711442e-10, 4.3674636e-06, 2.3610329e-07,\n",
       "        9.9868053e-01, 3.9996467e-06, 3.5982625e-06, 1.2600890e-04,\n",
       "        2.9269966e-06, 1.1773023e-03]], dtype=float32)>"
      ]
     },
     "execution_count": 12,
     "metadata": {},
     "output_type": "execute_result"
    }
   ],
   "source": [
    "probability_model(x_test[:5])"
   ]
  },
  {
   "cell_type": "markdown",
   "metadata": {},
   "source": [
    "# TensorFlow \n",
    "\n",
    "Lêr a página de TensorFlow !\n",
    "o link é:\n",
    "[TensorFlow](https://www.tensorflow.org/guide/tensor?hl=pt_br)"
   ]
  },
  {
   "cell_type": "code",
   "execution_count": 1,
   "metadata": {},
   "outputs": [],
   "source": [
    "import tensorflow as tf\n",
    "import numpy as np\n"
   ]
  },
  {
   "cell_type": "markdown",
   "metadata": {},
   "source": [
    "Aqui está um tensor \"escalar\" ou \"categoria 0\". Um escalar contém um único valor e nenhum \"eixo\"."
   ]
  },
  {
   "cell_type": "code",
   "execution_count": 2,
   "metadata": {},
   "outputs": [
    {
     "name": "stdout",
     "output_type": "stream",
     "text": [
      "tf.Tensor(4, shape=(), dtype=int32)\n"
     ]
    }
   ],
   "source": [
    "# This will be an int32 tensor by default; see \"dtypes\" below.\n",
    "\n",
    "rank_0_tensor = tf.constant(4)\n",
    "print(rank_0_tensor)\n"
   ]
  },
  {
   "cell_type": "code",
   "execution_count": 3,
   "metadata": {},
   "outputs": [
    {
     "name": "stdout",
     "output_type": "stream",
     "text": [
      "4\r\n"
     ]
    }
   ],
   "source": [
    "tf.print(rank_0_tensor)"
   ]
  },
  {
   "cell_type": "markdown",
   "metadata": {},
   "source": [
    "Um tensor de \"vetor\" ou \"classificação 1\" é como uma lista de valores. Um vetor tem 1 eixo:"
   ]
  },
  {
   "cell_type": "code",
   "execution_count": 4,
   "metadata": {},
   "outputs": [
    {
     "name": "stdout",
     "output_type": "stream",
     "text": [
      "tf.Tensor([2. 3. 4.], shape=(3,), dtype=float32)\n"
     ]
    }
   ],
   "source": [
    "# Let's make this a float tensor\n",
    "\n",
    "rank_1_tensor = tf.constant([2.0, 3.0, 4.0])\n",
    "print(rank_1_tensor)\n"
   ]
  },
  {
   "cell_type": "code",
   "execution_count": 5,
   "metadata": {},
   "outputs": [
    {
     "name": "stdout",
     "output_type": "stream",
     "text": [
      "[2 3 4]\r\n"
     ]
    }
   ],
   "source": [
    "tf.print(rank_1_tensor)"
   ]
  },
  {
   "cell_type": "markdown",
   "metadata": {},
   "source": [
    "Um tensor de \"matriz\" ou \"posto 2\" tem 2 eixos:"
   ]
  },
  {
   "cell_type": "code",
   "execution_count": 6,
   "metadata": {},
   "outputs": [],
   "source": [
    "# If we want to be specific, we can set the dtype (see below)\n",
    "# at creation time\n",
    "\n",
    "\n",
    "rank_2_tensor = tf.constant([[1, 2],\n",
    "                             [3, 4],\n",
    "                             [5, 6]], dtype = tf.float16)\n"
   ]
  },
  {
   "cell_type": "code",
   "execution_count": 7,
   "metadata": {},
   "outputs": [
    {
     "name": "stdout",
     "output_type": "stream",
     "text": [
      "tf.Tensor(\n",
      "[[1. 2.]\n",
      " [3. 4.]\n",
      " [5. 6.]], shape=(3, 2), dtype=float16)\n"
     ]
    }
   ],
   "source": [
    "print(rank_2_tensor)"
   ]
  },
  {
   "cell_type": "code",
   "execution_count": 8,
   "metadata": {},
   "outputs": [
    {
     "name": "stdout",
     "output_type": "stream",
     "text": [
      "[[1 2]\n",
      " [3 4]\n",
      " [5 6]]\r\n"
     ]
    }
   ],
   "source": [
    "tf.print(rank_2_tensor)"
   ]
  },
  {
   "cell_type": "markdown",
   "metadata": {},
   "source": [
    "Os tensores podem ter mais eixos, aqui está um tensor com 3 eixos"
   ]
  },
  {
   "cell_type": "code",
   "execution_count": 10,
   "metadata": {},
   "outputs": [],
   "source": [
    "# There can be an arbitrary number of\n",
    "# axes (sometimes called \"dimensions\")\n",
    "\n",
    "rank_3_tensor = tf.constant([[[0, 1, 2, 3, 4],\n",
    "                              [5, 6, 7, 8, 9]],\n",
    "                             [[10, 11, 12, 13, 14],\n",
    "                              [15, 16, 17, 18, 19]],\n",
    "                             [[20, 21, 22, 23, 24],\n",
    "                              [25, 26, 27, 28, 29]],])\n"
   ]
  },
  {
   "cell_type": "code",
   "execution_count": 11,
   "metadata": {},
   "outputs": [
    {
     "name": "stdout",
     "output_type": "stream",
     "text": [
      "tf.Tensor(\n",
      "[[[ 0  1  2  3  4]\n",
      "  [ 5  6  7  8  9]]\n",
      "\n",
      " [[10 11 12 13 14]\n",
      "  [15 16 17 18 19]]\n",
      "\n",
      " [[20 21 22 23 24]\n",
      "  [25 26 27 28 29]]], shape=(3, 2, 5), dtype=int32)\n"
     ]
    }
   ],
   "source": [
    "print(rank_3_tensor)"
   ]
  },
  {
   "cell_type": "markdown",
   "metadata": {},
   "source": [
    "Você pode converter um tensor em uma matriz NumPy usando np.array ou o método `tensor.numpy` :"
   ]
  },
  {
   "cell_type": "code",
   "execution_count": 12,
   "metadata": {},
   "outputs": [
    {
     "data": {
      "text/plain": [
       "array([[1., 2.],\n",
       "       [3., 4.],\n",
       "       [5., 6.]], dtype=float16)"
      ]
     },
     "execution_count": 12,
     "metadata": {},
     "output_type": "execute_result"
    }
   ],
   "source": [
    "np.array(rank_2_tensor)"
   ]
  },
  {
   "cell_type": "code",
   "execution_count": 13,
   "metadata": {},
   "outputs": [
    {
     "data": {
      "text/plain": [
       "array([[1., 2.],\n",
       "       [3., 4.],\n",
       "       [5., 6.]], dtype=float16)"
      ]
     },
     "execution_count": 13,
     "metadata": {},
     "output_type": "execute_result"
    }
   ],
   "source": [
    "rank_2_tensor.numpy()"
   ]
  },
  {
   "cell_type": "markdown",
   "metadata": {},
   "source": [
    "Podemos fazer matemática básica em tensores, incluindo adição, multiplicação por elemento e multiplicação de matriz."
   ]
  },
  {
   "cell_type": "code",
   "execution_count": 2,
   "metadata": {},
   "outputs": [],
   "source": [
    "a = tf.constant([[1, 2],\n",
    "                 [3, 4]])\n",
    "\n",
    "b = tf.constant([[1, 1],\n",
    "                 [1, 1]])\n",
    "\n",
    "# Could have also said `tf.ones([2, 2])` "
   ]
  },
  {
   "cell_type": "code",
   "execution_count": 3,
   "metadata": {},
   "outputs": [
    {
     "name": "stdout",
     "output_type": "stream",
     "text": [
      "tf.Tensor(\n",
      "[[2 3]\n",
      " [4 5]], shape=(2, 2), dtype=int32) \n",
      "\n",
      "tf.Tensor(\n",
      "[[1 2]\n",
      " [3 4]], shape=(2, 2), dtype=int32) \n",
      "\n",
      "tf.Tensor(\n",
      "[[3 3]\n",
      " [7 7]], shape=(2, 2), dtype=int32) \n",
      "\n"
     ]
    }
   ],
   "source": [
    "print(tf.add(a, b), \"\\n\")\n",
    "print(tf.multiply(a, b), \"\\n\") # Multiplicação por elemento\n",
    "print(tf.matmul(a, b), \"\\n\")"
   ]
  },
  {
   "cell_type": "markdown",
   "metadata": {},
   "source": [
    "Também:"
   ]
  },
  {
   "cell_type": "code",
   "execution_count": 4,
   "metadata": {},
   "outputs": [
    {
     "name": "stdout",
     "output_type": "stream",
     "text": [
      "tf.Tensor(\n",
      "[[2 3]\n",
      " [4 5]], shape=(2, 2), dtype=int32) \n",
      "\n",
      "tf.Tensor(\n",
      "[[1 2]\n",
      " [3 4]], shape=(2, 2), dtype=int32) \n",
      "\n",
      "tf.Tensor(\n",
      "[[3 3]\n",
      " [7 7]], shape=(2, 2), dtype=int32) \n",
      "\n"
     ]
    }
   ],
   "source": [
    "print(a + b, \"\\n\") # element-wise addition\n",
    "print(a * b, \"\\n\") # element-wise multiplication\n",
    "print(a @ b, \"\\n\") # matrix multiplication"
   ]
  },
  {
   "cell_type": "markdown",
   "metadata": {},
   "source": [
    "Tensores são usados em todos os tipos de operações (ops)."
   ]
  },
  {
   "cell_type": "code",
   "execution_count": 5,
   "metadata": {},
   "outputs": [
    {
     "name": "stdout",
     "output_type": "stream",
     "text": [
      "tf.Tensor(10.0, shape=(), dtype=float32) \n",
      "\n",
      "tf.Tensor([1 0], shape=(2,), dtype=int64) \n",
      "\n",
      "tf.Tensor(\n",
      "[[2.6894143e-01 7.3105860e-01]\n",
      " [9.9987662e-01 1.2339458e-04]], shape=(2, 2), dtype=float32) \n",
      "\n"
     ]
    }
   ],
   "source": [
    "c =tf.constant([[4.0, 5.0],\n",
    "                [10.0, 1.0]])\n",
    "\n",
    "# Find the largest value\n",
    "print(tf.reduce_max(c), \"\\n\")\n",
    "\n",
    "# Find the index of the largest value\n",
    "print(tf.argmax(c), \"\\n\")\n",
    "\n",
    "\n",
    "# Compute the softmax\n",
    "print(tf.nn.softmax(c), \"\\n\")\n",
    "\n",
    "\n"
   ]
  },
  {
   "cell_type": "code",
   "execution_count": 6,
   "metadata": {},
   "outputs": [],
   "source": [
    "rank_4_tensor = tf.zeros([3, 2, 4, 5])"
   ]
  },
  {
   "cell_type": "code",
   "execution_count": 7,
   "metadata": {},
   "outputs": [
    {
     "name": "stdout",
     "output_type": "stream",
     "text": [
      "Type of every element: <dtype: 'float32'>\n"
     ]
    }
   ],
   "source": [
    "print(\"Type of every element:\", rank_4_tensor.dtype)"
   ]
  },
  {
   "cell_type": "code",
   "execution_count": 8,
   "metadata": {},
   "outputs": [
    {
     "name": "stdout",
     "output_type": "stream",
     "text": [
      "Number of dimensions: 4\n"
     ]
    }
   ],
   "source": [
    "print(\"Number of dimensions:\", rank_4_tensor.ndim)"
   ]
  },
  {
   "cell_type": "code",
   "execution_count": 9,
   "metadata": {},
   "outputs": [
    {
     "name": "stdout",
     "output_type": "stream",
     "text": [
      "Shape of tensor: (3, 2, 4, 5)\n"
     ]
    }
   ],
   "source": [
    "print(\"Shape of tensor:\", rank_4_tensor.shape)"
   ]
  },
  {
   "cell_type": "code",
   "execution_count": 10,
   "metadata": {},
   "outputs": [
    {
     "name": "stdout",
     "output_type": "stream",
     "text": [
      "Elements along axis 0 of tensor: 3\n"
     ]
    }
   ],
   "source": [
    "print(\"Elements along axis 0 of tensor:\", rank_4_tensor.shape[0])"
   ]
  },
  {
   "cell_type": "code",
   "execution_count": 18,
   "metadata": {},
   "outputs": [
    {
     "name": "stdout",
     "output_type": "stream",
     "text": [
      "Elements along the last axis of tensor: 5\n",
      "Elements along the last axis of tensor: 5\n"
     ]
    }
   ],
   "source": [
    "print(\"Elements along the last axis of tensor:\", rank_4_tensor.shape[-1])\n",
    "# ou\n",
    "print(\"Elements along the last axis of tensor:\", rank_4_tensor.shape[3])"
   ]
  },
  {
   "cell_type": "code",
   "execution_count": 16,
   "metadata": {},
   "outputs": [
    {
     "name": "stdout",
     "output_type": "stream",
     "text": [
      "Total number of elements (3*2*4*5): 120\n"
     ]
    }
   ],
   "source": [
    "print(\"Total number of elements (3*2*4*5):\", tf.size(rank_4_tensor).numpy())"
   ]
  },
  {
   "cell_type": "markdown",
   "metadata": {},
   "source": [
    "**Indexando**\n",
    "\n",
    "_Indexação de eixo único_\n",
    "\n",
    "O TensorFlow segue as regras de indexação padrão do Python, semelhantes à [indexação de uma lista ou string em Python](https://docs.python.org/3/tutorial/introduction.html#strings) , e as regras básicas para indexação **NumPy**.\n",
    "\n",
    "* índices começam em `0`\n",
    "* índices negativos contam para trás a partir do final\n",
    "* dois pontos, `:` , são usados para fatias: `start:stop:step`"
   ]
  },
  {
   "cell_type": "code",
   "execution_count": 24,
   "metadata": {},
   "outputs": [
    {
     "name": "stdout",
     "output_type": "stream",
     "text": [
      "[ 0  1  1  2  3  5  8 13 21 34]\n"
     ]
    }
   ],
   "source": [
    "rank_1_tensor = tf.constant([0, 1, 1, 2, 3, 5, 8, 13, 21, 34])\n",
    "print(rank_1_tensor.numpy())\n"
   ]
  },
  {
   "cell_type": "code",
   "execution_count": 26,
   "metadata": {},
   "outputs": [
    {
     "name": "stdout",
     "output_type": "stream",
     "text": [
      "First: 0\n",
      "\n",
      "Second: 1\n",
      "\n",
      "Last: 34\n",
      "\n",
      "Last: 34\n"
     ]
    }
   ],
   "source": [
    "print(\"First:\", rank_1_tensor[0].numpy())\n",
    "print(\"\")\n",
    "print(\"Second:\", rank_1_tensor[1].numpy())\n",
    "print(\"\")\n",
    "print(\"Last:\", rank_1_tensor[-1].numpy())\n",
    "print(\"\")\n",
    "print(\"Last:\", rank_1_tensor[9].numpy())"
   ]
  },
  {
   "cell_type": "markdown",
   "metadata": {},
   "source": [
    "A indexação com um `:` slice mantém a dimensão:"
   ]
  },
  {
   "cell_type": "code",
   "execution_count": 27,
   "metadata": {},
   "outputs": [
    {
     "name": "stdout",
     "output_type": "stream",
     "text": [
      "Everything: [ 0  1  1  2  3  5  8 13 21 34]\n",
      "Before 4: [0 1 1 2]\n",
      "From 4 to the end: [ 3  5  8 13 21 34]\n",
      "From 2, before 7: [1 2 3 5 8]\n",
      "Every other item: [ 0  1  3  8 21]\n",
      "Reversed: [34 21 13  8  5  3  2  1  1  0]\n"
     ]
    }
   ],
   "source": [
    "print(\"Everything:\", rank_1_tensor[:].numpy())\n",
    "print(\"Before 4:\", rank_1_tensor[:4].numpy())\n",
    "print(\"From 4 to the end:\", rank_1_tensor[4:].numpy())\n",
    "print(\"From 2, before 7:\", rank_1_tensor[2:7].numpy())\n",
    "print(\"Every other item:\", rank_1_tensor[::2].numpy())\n",
    "print(\"Reversed:\", rank_1_tensor[::-1].numpy())"
   ]
  },
  {
   "cell_type": "markdown",
   "metadata": {},
   "source": [
    "**Manipulando formas**\n",
    "\n",
    "Remodelar um tensor é de grande utilidade."
   ]
  },
  {
   "cell_type": "code",
   "execution_count": 29,
   "metadata": {},
   "outputs": [
    {
     "name": "stdout",
     "output_type": "stream",
     "text": [
      "(3, 1)\n"
     ]
    }
   ],
   "source": [
    "# Shape returns a \"TensorShape\" object that shows the size on each dimension\n",
    "var_x = tf.Variable(tf.constant([[1],\n",
    "                                 [2],\n",
    "                                 [3]]))\n",
    "print(var_x.shape)\n"
   ]
  },
  {
   "cell_type": "code",
   "execution_count": 31,
   "metadata": {},
   "outputs": [
    {
     "name": "stdout",
     "output_type": "stream",
     "text": [
      "[3, 1]\n"
     ]
    }
   ],
   "source": [
    "# You can convert this object into a Python list, too\n",
    "print(var_x.shape.as_list())"
   ]
  },
  {
   "cell_type": "markdown",
   "metadata": {},
   "source": [
    "### Mais sobre DTypes\n",
    "\n",
    "Para inspecionar o tipo de dados de um `tf.Tensor`, use a propriedade `Tensor.dtype` .\n",
    "\n",
    "Ao criar um `tf.Tensor` partir de um objeto Python, você pode opcionalmente especificar o tipo de dados.\n",
    "\n",
    "Caso contrário, o TensorFlow escolhe um tipo de dados que pode representar seus dados. O TensorFlow converte inteiros Python em `tf.int32` e números de ponto flutuante Python em `tf.float32` . Caso contrário, o TensorFlow usa as mesmas regras que o NumPy usa ao converter para matrizes.\n",
    "\n",
    "Você pode lançar de um tipo para outro."
   ]
  },
  {
   "cell_type": "code",
   "execution_count": 32,
   "metadata": {},
   "outputs": [
    {
     "name": "stdout",
     "output_type": "stream",
     "text": [
      "tf.Tensor([2 3 4], shape=(3,), dtype=uint8)\n"
     ]
    }
   ],
   "source": [
    "\n",
    "the_f64_tensor = tf.constant([2.2, 3.3, 4.4], dtype=tf.float64)\n",
    "the_f16_tensor = tf.cast(the_f64_tensor, dtype=tf.float16)\n",
    "\n",
    "# Now, cast to an uint8 and lose the decimal precision\n",
    "the_u8_tensor = tf.cast(the_f16_tensor, dtype=tf.uint8)\n",
    "print(the_u8_tensor)\n"
   ]
  },
  {
   "cell_type": "markdown",
   "metadata": {},
   "source": [
    "## Tensores de corda\n",
    "\n",
    "`tf.string` é um `dtype`, o que significa que podemos representar dados como strings (matrizes de bytes de comprimento variável) em tensores.\n",
    "\n",
    "As strings são atômicas e não podem ser indexadas como as strings do Python. O comprimento da corda não é uma das dimensões do tensor. Veja `tf.strings` para funções para manipulá-los.\n",
    "\n",
    "Aqui está um tensor de string escalar:"
   ]
  },
  {
   "cell_type": "code",
   "execution_count": 33,
   "metadata": {},
   "outputs": [
    {
     "name": "stdout",
     "output_type": "stream",
     "text": [
      "tf.Tensor(b'Gray wolf', shape=(), dtype=string)\n"
     ]
    }
   ],
   "source": [
    "# Tensors can be strings, too here is a scalar string.\n",
    "\n",
    "scalar_string_tensor = tf.constant(\"Gray wolf\")\n",
    "print(scalar_string_tensor)"
   ]
  },
  {
   "cell_type": "markdown",
   "metadata": {},
   "source": [
    "E um vetor de strings:"
   ]
  },
  {
   "cell_type": "code",
   "execution_count": 34,
   "metadata": {},
   "outputs": [
    {
     "name": "stdout",
     "output_type": "stream",
     "text": [
      "tf.Tensor([b'Gray wolf' b'Quick brown fox' b'Lazy dog'], shape=(3,), dtype=string)\n"
     ]
    }
   ],
   "source": [
    "# If we have three string tensors of different lengths, this is OK.\n",
    "tensor_of_strings = tf.constant([\"Gray wolf\",\n",
    "                                 \"Quick brown fox\",\n",
    "                                 \"Lazy dog\"])\n",
    "\n",
    "\n",
    "\n",
    "# Note that the shape is (3,). The string length is not included.\n",
    "print(tensor_of_strings)"
   ]
  },
  {
   "cell_type": "markdown",
   "metadata": {},
   "source": [
    "Na impressão acima, o prefixo b indica que `tf.string` dtype não é uma string Unicode, mas uma string de bytes. Consulte o [Tutorial Unicode](https://www.tensorflow.org/tutorials/load_data/unicode?hl=pt_br) para mais informações sobre como trabalhar com texto Unicode no TensorFlow.\n",
    "\n",
    "Se você passar caracteres Unicode, eles serão codificados em utf-8."
   ]
  },
  {
   "cell_type": "markdown",
   "metadata": {},
   "source": [
    "# TensorFlow\n",
    "\n",
    "## Treine sua primeira rede neural: classificação básica\n",
    "\n",
    "\n",
    "Este tutorial treina um modelo de rede neural para **classificação de imagens de roupas**, como tênis e camisetas. Tudo bem se você não entender todos os detalhes; este é um visão geral de um programa do TensorFlow com detalhes explicados enquanto progredimos.\n",
    "\n",
    "O guia usa [tf.keras](https://www.tensorflow.org/guide/keras?hl=pt_br), uma API alto-nível para construir e treinar modelos no TensorFlow."
   ]
  },
  {
   "cell_type": "code",
   "execution_count": 1,
   "metadata": {},
   "outputs": [
    {
     "name": "stdout",
     "output_type": "stream",
     "text": [
      "2.1.0\n"
     ]
    }
   ],
   "source": [
    "# TensorFlow e tf.keras\n",
    "\n",
    "import tensorflow as tf\n",
    "from tensorflow import keras\n",
    "\n",
    "\n",
    "# Librariesauxiliares\n",
    "\n",
    "import numpy as np \n",
    "import matplotlib.pyplot as plt\n",
    "\n",
    "\n",
    "print(tf.__version__)\n"
   ]
  },
  {
   "cell_type": "markdown",
   "metadata": {},
   "source": [
    "### Importe a base de dados Fashion MNIST"
   ]
  },
  {
   "cell_type": "code",
   "execution_count": 2,
   "metadata": {},
   "outputs": [],
   "source": [
    "fashion_mnist = keras.datasets.fashion_mnist\n",
    "\n",
    "\n",
    "(train_images, train_labels), (test_images, test_labels) = fashion_mnist.load_data()"
   ]
  },
  {
   "cell_type": "markdown",
   "metadata": {},
   "source": [
    "Carregando a base de dados que retorna quatro NumPy arrays:\n",
    "\n",
    "* Os arrays `train_images` e `train_labels` são o conjunto de treinamento — os dados do modelo usados para aprender.\n",
    "* O modelo é testado com o conjunto de teste, os arrays `test_images` e `test_labels`.\n",
    "\n",
    "As imagens são arrays NumPy de 28x28, com os valores des pixels entre 0 to 255. As labels (alvo da classificação) são um array de inteiros, no intervalo de 0 a 9. Esse corresponde com a classe de roupa que cada imagem representa:"
   ]
  },
  {
   "cell_type": "code",
   "execution_count": 3,
   "metadata": {},
   "outputs": [],
   "source": [
    "class_names = ['T-shirt/top', 'Trouser', 'Pullover', 'Dress', 'Coat',\n",
    "               'Sandal', 'Shirt', 'Sneaker', 'Bag', 'Ankle boot']"
   ]
  },
  {
   "cell_type": "code",
   "execution_count": 4,
   "metadata": {},
   "outputs": [
    {
     "data": {
      "text/plain": [
       "['T-shirt/top',\n",
       " 'Trouser',\n",
       " 'Pullover',\n",
       " 'Dress',\n",
       " 'Coat',\n",
       " 'Sandal',\n",
       " 'Shirt',\n",
       " 'Sneaker',\n",
       " 'Bag',\n",
       " 'Ankle boot']"
      ]
     },
     "execution_count": 4,
     "metadata": {},
     "output_type": "execute_result"
    }
   ],
   "source": [
    "class_names"
   ]
  },
  {
   "cell_type": "markdown",
   "metadata": {},
   "source": [
    "Cada imagem é mapeada com um só label. Já que o nome das classes não são incluídas na base de dados, armazene os dados aqui para usá-los mais tarde quando plotarmos as imagens:\n",
    "\n",
    "\n",
    "Label | Classe\n",
    ":---: | :---:\n",
    "0\t| Camisetas/Top (T-shirt/top)\n",
    "1\t| Calça (Trouser)\n",
    "2\t| Suéter (Pullover)\n",
    "3\t| Vestidos (Dress)\n",
    "4\t| Casaco (Coat)\n",
    "5\t| Sandálias (Sandal)\n",
    "6\t| Camisas (Shirt)\n",
    "7\t| Tênis (Sneaker)\n",
    "8\t| Bolsa (Bag)\n",
    "9\t| Botas (Ankle boot)\n"
   ]
  },
  {
   "cell_type": "markdown",
   "metadata": {},
   "source": [
    "### Explore os dados\n",
    "\n",
    "Vamos explorar o formato da base de dados antes de treinar o modelo. O próximo comando mostra que existem 60000 imagens no conjunto de treinamento, e cada imagem é representada em 28 x 28 pixels:"
   ]
  },
  {
   "cell_type": "code",
   "execution_count": 5,
   "metadata": {},
   "outputs": [
    {
     "data": {
      "text/plain": [
       "(60000, 28, 28)"
      ]
     },
     "execution_count": 5,
     "metadata": {},
     "output_type": "execute_result"
    }
   ],
   "source": [
    "train_images.shape"
   ]
  },
  {
   "cell_type": "markdown",
   "metadata": {},
   "source": [
    "Do mesmo modo, existem 60000 labels no conjunto de treinamento:"
   ]
  },
  {
   "cell_type": "code",
   "execution_count": 6,
   "metadata": {},
   "outputs": [
    {
     "data": {
      "text/plain": [
       "60000"
      ]
     },
     "execution_count": 6,
     "metadata": {},
     "output_type": "execute_result"
    }
   ],
   "source": [
    "len(train_labels)"
   ]
  },
  {
   "cell_type": "markdown",
   "metadata": {},
   "source": [
    "Cada label é um inteiro entre 0 e 9:"
   ]
  },
  {
   "cell_type": "code",
   "execution_count": 7,
   "metadata": {},
   "outputs": [
    {
     "data": {
      "text/plain": [
       "array([9, 0, 0, ..., 3, 0, 5], dtype=uint8)"
      ]
     },
     "execution_count": 7,
     "metadata": {},
     "output_type": "execute_result"
    }
   ],
   "source": [
    "train_labels"
   ]
  },
  {
   "cell_type": "markdown",
   "metadata": {},
   "source": [
    "Existem 10000 imagens no conjnto de teste. Novamente, cada imagem é representada por 28 x 28 pixels:"
   ]
  },
  {
   "cell_type": "code",
   "execution_count": 8,
   "metadata": {},
   "outputs": [
    {
     "data": {
      "text/plain": [
       "(10000, 28, 28)"
      ]
     },
     "execution_count": 8,
     "metadata": {},
     "output_type": "execute_result"
    }
   ],
   "source": [
    "test_images.shape"
   ]
  },
  {
   "cell_type": "markdown",
   "metadata": {},
   "source": [
    "E um conjunto de teste contendo 10000 labels das imagens :"
   ]
  },
  {
   "cell_type": "code",
   "execution_count": 9,
   "metadata": {},
   "outputs": [
    {
     "data": {
      "text/plain": [
       "10000"
      ]
     },
     "execution_count": 9,
     "metadata": {},
     "output_type": "execute_result"
    }
   ],
   "source": [
    "len(test_labels)"
   ]
  },
  {
   "cell_type": "markdown",
   "metadata": {},
   "source": [
    "### Pré-processe os dados\n",
    "\n",
    "Os dados precisam ser pré-processados antes de treinar a rede. Se você inspecionar a primeira imagem do conjunto de treinamento, você verá que os valores dos pixels estão entre 0 e 255:"
   ]
  },
  {
   "cell_type": "code",
   "execution_count": 10,
   "metadata": {},
   "outputs": [
    {
     "data": {
      "image/png": "[encoded data removed]",
      "text/plain": [
       "<Figure size 432x288 with 2 Axes>"
      ]
     },
     "metadata": {
      "needs_background": "light"
     },
     "output_type": "display_data"
    }
   ],
   "source": [
    "plt.figure()\n",
    "plt.imshow(train_images[9])\n",
    "plt.colorbar()\n",
    "plt.grid(True)\n",
    "plt.show()\n"
   ]
  },
  {
   "cell_type": "code",
   "execution_count": 11,
   "metadata": {},
   "outputs": [
    {
     "data": {
      "image/png": "[encoded data removed]",
      "text/plain": [
       "<Figure size 432x288 with 2 Axes>"
      ]
     },
     "metadata": {
      "needs_background": "light"
     },
     "output_type": "display_data"
    }
   ],
   "source": [
    "plt.figure()\n",
    "plt.imshow(train_images[0])\n",
    "plt.colorbar()\n",
    "plt.grid(True)\n",
    "plt.show()"
   ]
  },
  {
   "cell_type": "markdown",
   "metadata": {},
   "source": [
    "Escalaremos esses valores no intervalo de 0 e 1 antes antes de alimentar o modelo da rede neural. Para fazer isso, dividimos os valores por 255. É importante que o conjunto de treinamento e o conjunto de teste podem ser pré-processados do mesmo modo:"
   ]
  },
  {
   "cell_type": "code",
   "execution_count": 12,
   "metadata": {},
   "outputs": [],
   "source": [
    "train_images = train_images / 255.0\n",
    "\n",
    "test_images = test_images / 255.0"
   ]
  },
  {
   "cell_type": "markdown",
   "metadata": {},
   "source": [
    "Para verificar que os dados estão no formato correto e que estamos prontos para construir e treinar a rede, vamos **mostrar as primeiras 25 imagens do conjunto de treinamento** e mostrar o nome das classes de cada imagem abaixo."
   ]
  },
  {
   "cell_type": "code",
   "execution_count": 13,
   "metadata": {},
   "outputs": [
    {
     "data": {
      "image/png": "[encoded data removed]",
      "text/plain": [
       "<Figure size 720x720 with 25 Axes>"
      ]
     },
     "metadata": {},
     "output_type": "display_data"
    }
   ],
   "source": [
    "plt.figure(figsize=(10, 10))\n",
    "for i in range(25):\n",
    "    plt.subplot(5, 5, i + 1)\n",
    "    plt.xticks([])\n",
    "    plt.yticks([])\n",
    "    plt.grid(True )\n",
    "    plt.imshow(train_images[i], cmap=plt.cm.binary)\n",
    "    plt.xlabel(class_names[train_labels[i]])\n",
    "plt.show()    \n",
    "\n"
   ]
  },
  {
   "cell_type": "markdown",
   "metadata": {},
   "source": [
    "### Construindo o modelo\n",
    "\n",
    "Construir a rede neural requer configurar as camadas do modelo, e depois, compilar o modelo.\n",
    "\n",
    "#### Montar as camadas\n",
    "\n",
    "O principal bloco de construção da rede neural é a camada (layer). As camadas (layers) extraem representações dos dados inseridos na rede. Com sorte, essas representações são significativas para o problema à mão.\n",
    "\n",
    "Muito do _deep learning_ consiste encadear simples camadas. Muitas camadas, como `tf.keras.layers.Dense`, tem paramêtros que são aprendidos durante o treinamento."
   ]
  },
  {
   "cell_type": "code",
   "execution_count": 14,
   "metadata": {},
   "outputs": [],
   "source": [
    "model = keras.Sequential([keras.layers.Flatten(input_shape= (28, 28)),\n",
    "                          keras.layers.Dense(128, activation= 'relu'),\n",
    "                          keras.layers.Dense(10, activation = 'softmax')])"
   ]
  },
  {
   "cell_type": "markdown",
   "metadata": {},
   "source": [
    "A primeira camada da rede, `tf.keras.layers.Flatten`, transforma o formato da imagem de um array de imagens de duas dimensões (**of 28 by 28 pixels**) para um array de uma dimensão (**de 28 * 28 = 784 pixels**). Pense nessa camada como camadas não empilhadas de pixels de uma imagem e os emfilere. Essa camada não tem paramêtros para aprender; ela só reformata os dados.\n",
    "\n",
    "Depois dos pixels serem achatados, a rede consiste de uma sequência de duas camadas `tf.keras.layers.Dense`. Essa são camadas neurais densely connected, ou fully connected. A primeira camada Dense tem 128 nós (ou neurônios). A segunda (e última) camda é uma softmax de 10 nós que retorna um array de 10 probabilidades, cuja soma resulta em 1. Cada nó contem um valor que indica a probabilidade de que aquela imagem pertence a uma das 10 classes.\n",
    "\n",
    "\n",
    "### Compile o modelo\n",
    "\n",
    "\n",
    "Antes do modelo estar pronto para o treinamento, é necessário algumas configurações a mais. Essas serão adicionadas no passo de compilação:\n",
    "\n",
    "* _Função Loss_ - Essa mede quão precisa o modelo é durante o treinamento. Queremos minimizar a função para guiar o modelo para direção certa.\n",
    "\n",
    "* _Optimizer_ - Isso é como o modelo se atualiza com base no dado que ele vê e sua função loss.\n",
    "\n",
    "* _Métricas_ - usadas para monitorar os passos de treinamento e teste. O exemplo abaixo usa a acurácia, a fração das imagens que foram classificadas corretamente.\n",
    "\n",
    "\n",
    "\n"
   ]
  },
  {
   "cell_type": "code",
   "execution_count": 15,
   "metadata": {},
   "outputs": [],
   "source": [
    "model.compile(optimizer='adam', loss='sparse_categorical_crossentropy', \n",
    "              metrics=['accuracy'])"
   ]
  },
  {
   "cell_type": "markdown",
   "metadata": {},
   "source": [
    "### Treine o modelo\n",
    "\n",
    "Treinar a rede neural requer os seguintes passos:\n",
    "\n",
    "1. Alimente com os dados de treinamento, o modelo. Neste exemplo, os dados de treinamento são os arrays `train_images` e `train_labels`.\n",
    "\n",
    "\n",
    "2. O modelo aprende como associar as imagens as labels.\n",
    "\n",
    "\n",
    "3. Perguntamos ao modelo para fazer previsões sobre o conjunto de teste — nesse exemplo, o array `test_images`. Verificamos se as previsões combinaram com as labels do array `test_labels`.\n",
    "\n",
    "Para começar a treinar, chame o método `model.fit`— assim chamado, porque ele \"encaixa\" o modelo no conjunto de treinamento:"
   ]
  },
  {
   "cell_type": "code",
   "execution_count": 16,
   "metadata": {},
   "outputs": [
    {
     "name": "stdout",
     "output_type": "stream",
     "text": [
      "Train on 60000 samples\n",
      "Epoch 1/10\n",
      "60000/60000 [==============================] - 9s 144us/sample - loss: 0.4985 - accuracy: 0.8249\n",
      "Epoch 2/10\n",
      "60000/60000 [==============================] - 7s 122us/sample - loss: 0.3762 - accuracy: 0.8634\n",
      "Epoch 3/10\n",
      "60000/60000 [==============================] - 8s 127us/sample - loss: 0.3368 - accuracy: 0.8773\n",
      "Epoch 4/10\n",
      "60000/60000 [==============================] - 8s 130us/sample - loss: 0.3140 - accuracy: 0.8862\n",
      "Epoch 5/10\n",
      "60000/60000 [==============================] - 8s 138us/sample - loss: 0.2953 - accuracy: 0.8910\n",
      "Epoch 6/10\n",
      "60000/60000 [==============================] - 8s 141us/sample - loss: 0.2805 - accuracy: 0.8964\n",
      "Epoch 7/10\n",
      "60000/60000 [==============================] - 8s 141us/sample - loss: 0.2682 - accuracy: 0.9013\n",
      "Epoch 8/10\n",
      "60000/60000 [==============================] - 8s 140us/sample - loss: 0.2594 - accuracy: 0.9034\n",
      "Epoch 9/10\n",
      "60000/60000 [==============================] - 7s 123us/sample - loss: 0.2455 - accuracy: 0.9075\n",
      "Epoch 10/10\n",
      "60000/60000 [==============================] - 8s 134us/sample - loss: 0.2400 - accuracy: 0.9099\n"
     ]
    },
    {
     "data": {
      "text/plain": [
       "<tensorflow.python.keras.callbacks.History at 0x276e031fb08>"
      ]
     },
     "execution_count": 16,
     "metadata": {},
     "output_type": "execute_result"
    }
   ],
   "source": [
    "model.fit(train_images, train_labels, epochs=10)"
   ]
  },
  {
   "cell_type": "markdown",
   "metadata": {},
   "source": [
    "À medida que o modelo treina, as métricas loss e acurácia são mostradas. O modelo atinge uma acurácia de 0.88 (ou 88%) com o conjunto de treinamento.\n",
    "\n",
    "### Avalie a acurácia\n",
    "\n",
    "Depois, compare como o modelo performou com o conjunto de teste:"
   ]
  },
  {
   "cell_type": "code",
   "execution_count": 17,
   "metadata": {},
   "outputs": [
    {
     "name": "stdout",
     "output_type": "stream",
     "text": [
      "10000/10000 - 1s - loss: 0.3317 - accuracy: 0.8829\n"
     ]
    }
   ],
   "source": [
    "test_loss, test_acc = model.evaluate(test_images, test_labels, verbose=2)\n"
   ]
  },
  {
   "cell_type": "code",
   "execution_count": 18,
   "metadata": {},
   "outputs": [
    {
     "name": "stdout",
     "output_type": "stream",
     "text": [
      "\n",
      "Test accuracy: 0.8829\n"
     ]
    }
   ],
   "source": [
    "print('\\nTest accuracy:', test_acc)"
   ]
  },
  {
   "cell_type": "markdown",
   "metadata": {},
   "source": [
    "Acabou que o a accurácia com o conjunto de teste é um pouco menor do que a acurácia de treinamento. Essa diferença entre as duas acurácias representa um _overfitting_. Overfitting é modelo de aprendizado de máquina performou de maneira pior em um conjunto de entradas novas, e não usadas anteriormente, que usando o conjunto de treinamento.\n",
    "\n",
    "### Faça predições\n",
    "\n",
    "Com o modelo treinado, o usaremos para predições de algumas imagens."
   ]
  },
  {
   "cell_type": "code",
   "execution_count": 19,
   "metadata": {},
   "outputs": [],
   "source": [
    "predictions = model.predict(test_images)"
   ]
  },
  {
   "cell_type": "markdown",
   "metadata": {},
   "source": [
    "Aqui, o modelo previu que a _label_ de cada imagem no conjunto de treinamento. Vamos olhar na primeira predição:"
   ]
  },
  {
   "cell_type": "code",
   "execution_count": 20,
   "metadata": {},
   "outputs": [
    {
     "data": {
      "text/plain": [
       "array([2.1318291e-08, 3.3173398e-11, 4.4737512e-12, 2.5308620e-11,\n",
       "       9.2460163e-12, 2.0894216e-04, 1.2052130e-08, 9.1569033e-04,\n",
       "       3.6415517e-07, 9.9887496e-01], dtype=float32)"
      ]
     },
     "execution_count": 20,
     "metadata": {},
     "output_type": "execute_result"
    }
   ],
   "source": [
    "predictions[0]"
   ]
  },
  {
   "cell_type": "markdown",
   "metadata": {},
   "source": [
    "A predição é um array de $10$ números. Eles representam um a _confiança_ do modelo que a imagem corresponde a cada um dos diferentes artigos de roupa. Podemos ver cada _label_ tem um maior valor de confiança: "
   ]
  },
  {
   "cell_type": "code",
   "execution_count": 21,
   "metadata": {},
   "outputs": [
    {
     "data": {
      "text/plain": [
       "9"
      ]
     },
     "execution_count": 21,
     "metadata": {},
     "output_type": "execute_result"
    }
   ],
   "source": [
    "np.argmax(predictions[0])"
   ]
  },
  {
   "cell_type": "markdown",
   "metadata": {},
   "source": [
    "Então, o modelo é confiante de que essa imagem é uma bota (ankle boot) ou `class_names[9]`. Examinando a label do teste, vemos que essa classificação é correta:"
   ]
  },
  {
   "cell_type": "code",
   "execution_count": 22,
   "metadata": {},
   "outputs": [
    {
     "data": {
      "text/plain": [
       "9"
      ]
     },
     "execution_count": 22,
     "metadata": {},
     "output_type": "execute_result"
    }
   ],
   "source": [
    "test_labels[0]"
   ]
  },
  {
   "cell_type": "markdown",
   "metadata": {},
   "source": [
    "Podemos mostrar graficamente como se parece em um conjunto total de previsão de $10$ classes. "
   ]
  },
  {
   "cell_type": "code",
   "execution_count": 38,
   "metadata": {},
   "outputs": [],
   "source": [
    "def plot_image(i, predictions_array, true_label, img):\n",
    "    predictions_array, true_label, img = predictions_array[i], true_label[i], img[i]\n",
    "    plt.grid(False)\n",
    "    plt.xticks([])\n",
    "    plt.yticks([])\n",
    "    \n",
    "    plt.imshow(img, cmap=plt.cm.binary)\n",
    "    \n",
    "    predicted_label = np.argmax(predictions_array)\n",
    "    if predicted_label == true_label:\n",
    "        color = 'blue'\n",
    "    else:\n",
    "        color = 'red'\n",
    "        \n",
    "    plt.xlabel(\"{} {:2.0f}% ({})\".format(class_names[predicted_label],\n",
    "                                         100*np.max(predictions_array),\n",
    "                                         class_names[true_label]),\n",
    "               color=color)\n",
    "\n",
    "def plot_value_array(i, predictions_array, true_label):\n",
    "    predictions_array, true_label = predictions_array[i], true_label[i]\n",
    "    plt.grid(False)\n",
    "    plt.xticks([])\n",
    "    plt.yticks([])\n",
    "    thisplot = plt.bar(range(10), predictions_array, color=\"#777777\")\n",
    "    plt.ylim([0, 1])\n",
    "    predicted_label = np.argmax(predictions_array)\n",
    "\n",
    "    \n",
    "    thisplot[predicted_label].set_color('red')\n",
    "    thisplot[true_label].set_color('blue')\n",
    "    \n",
    "    "
   ]
  },
  {
   "cell_type": "markdown",
   "metadata": {},
   "source": [
    "Vamos olhar a previsão imagem na posição $0$, do array de predição."
   ]
  },
  {
   "cell_type": "code",
   "execution_count": 39,
   "metadata": {},
   "outputs": [
    {
     "data": {
      "image/png": "[encoded data removed]",
      "text/plain": [
       "<Figure size 432x216 with 2 Axes>"
      ]
     },
     "metadata": {},
     "output_type": "display_data"
    }
   ],
   "source": [
    "i = 0\n",
    "plt.figure(figsize=(6,3))\n",
    "plt.subplot(1,2,1)\n",
    "plot_image(i, predictions, test_labels, test_images)\n",
    "plt.subplot(1,2,2)\n",
    "plot_value_array(i, predictions,  test_labels)\n",
    "plt.show()"
   ]
  },
  {
   "cell_type": "code",
   "execution_count": 40,
   "metadata": {},
   "outputs": [
    {
     "data": {
      "image/png": "[encoded data removed]",
      "text/plain": [
       "<Figure size 432x216 with 2 Axes>"
      ]
     },
     "metadata": {},
     "output_type": "display_data"
    }
   ],
   "source": [
    "i = 12\n",
    "plt.figure(figsize=(6,3))\n",
    "plt.subplot(1,2,1)\n",
    "plot_image(i, predictions, test_labels, test_images)\n",
    "plt.subplot(1,2,2)\n",
    "plot_value_array(i, predictions,  test_labels)\n",
    "plt.show()"
   ]
  },
  {
   "cell_type": "code",
   "execution_count": 41,
   "metadata": {},
   "outputs": [
    {
     "data": {
      "image/png": "[encoded data removed]",
      "text/plain": [
       "<Figure size 432x216 with 2 Axes>"
      ]
     },
     "metadata": {},
     "output_type": "display_data"
    }
   ],
   "source": [
    "i = 21\n",
    "plt.figure(figsize=(6,3))\n",
    "plt.subplot(1,2,1)\n",
    "plot_image(i, predictions, test_labels, test_images)\n",
    "plt.subplot(1,2,2)\n",
    "plot_value_array(i, predictions,  test_labels)\n",
    "plt.show()"
   ]
  },
  {
   "cell_type": "markdown",
   "metadata": {},
   "source": [
    "Vamos plotar algumas da previsão do modelo. **Labels preditas corretamente são azuis** e as **predições erradas são vermelhas**. O número dá a porcentagem (de $100$) das labels preditas. Note que o modelo pode errar mesmo estão confiante."
   ]
  },
  {
   "cell_type": "code",
   "execution_count": 42,
   "metadata": {},
   "outputs": [
    {
     "data": {
      "image/png": "[encoded data removed]",
      "text/plain": [
       "<Figure size 864x720 with 30 Axes>"
      ]
     },
     "metadata": {},
     "output_type": "display_data"
    }
   ],
   "source": [
    "# Plota o primeiro X test images, e as labels preditas, e as labels verdadeiras.\n",
    "# Colore as predições corretas de azul e as incorretas de vermelho.\n",
    "\n",
    "\n",
    "num_rows = 5\n",
    "num_cols = 3\n",
    "num_images = num_rows*num_cols\n",
    "plt.figure(figsize=(2*2*num_cols, 2*num_rows))\n",
    "\n",
    "for i in range(num_images):\n",
    "    plt.subplot(num_rows, 2*num_cols, 2*i+1)\n",
    "    plot_image(i, predictions, test_labels, test_images)\n",
    "    plt.subplot(num_rows, 2*num_cols, 2*i+2)\n",
    "    plot_value_array(i, predictions, test_labels)\n",
    "plt.show()"
   ]
  },
  {
   "cell_type": "markdown",
   "metadata": {},
   "source": [
    "Finalmente, use o modelo treinado para fazer a predição de uma única imagem."
   ]
  },
  {
   "cell_type": "code",
   "execution_count": 43,
   "metadata": {},
   "outputs": [
    {
     "name": "stdout",
     "output_type": "stream",
     "text": [
      "(28, 28)\n"
     ]
    }
   ],
   "source": [
    "# Grab an image from the test dataset.\n",
    "\n",
    "img = test_images[0]\n",
    "\n",
    "print(img.shape)"
   ]
  },
  {
   "cell_type": "markdown",
   "metadata": {},
   "source": [
    "Modelos `tf.keras` são otimizados para fazer predições em um batch, ou coleções, de exemplos de uma vez. De acordo, mesmo que usemos uma única imagem, precisamos adicionar em uma lista:"
   ]
  },
  {
   "cell_type": "code",
   "execution_count": 44,
   "metadata": {},
   "outputs": [
    {
     "name": "stdout",
     "output_type": "stream",
     "text": [
      "(1, 28, 28)\n"
     ]
    }
   ],
   "source": [
    "# Adiciona a imagem em um batch que possui um só membro.\n",
    "\n",
    "img = (np.expand_dims(img,0))\n",
    "\n",
    "print(img.shape)\n"
   ]
  },
  {
   "cell_type": "markdown",
   "metadata": {},
   "source": [
    "Agora prediremos a label correta para essa imagem:"
   ]
  },
  {
   "cell_type": "code",
   "execution_count": 45,
   "metadata": {},
   "outputs": [
    {
     "name": "stdout",
     "output_type": "stream",
     "text": [
      "[[2.1318291e-08 3.3173461e-11 4.4737599e-12 2.5308668e-11 9.2460336e-12\n",
      "  2.0894277e-04 1.2052130e-08 9.1569254e-04 3.6415517e-07 9.9887496e-01]]\n"
     ]
    }
   ],
   "source": [
    "predictions_single = model.predict(img)\n",
    "\n",
    "print(predictions_single)"
   ]
  },
  {
   "cell_type": "code",
   "execution_count": 49,
   "metadata": {},
   "outputs": [
    {
     "data": {
      "image/png": "[encoded data removed]",
      "text/plain": [
       "<Figure size 432x288 with 1 Axes>"
      ]
     },
     "metadata": {
      "needs_background": "light"
     },
     "output_type": "display_data"
    }
   ],
   "source": [
    "plot_value_array(0, predictions_single, test_labels)\n",
    "_ = plt.xticks(range(10), class_names, rotation=45)"
   ]
  },
  {
   "cell_type": "markdown",
   "metadata": {},
   "source": [
    "`model.predict` retorna a lista de listas — uma lista para cada imagem em um batch de dados. Pegue a predição de nossa (única) imagem no batch:"
   ]
  },
  {
   "cell_type": "code",
   "execution_count": 50,
   "metadata": {},
   "outputs": [
    {
     "data": {
      "text/plain": [
       "9"
      ]
     },
     "execution_count": 50,
     "metadata": {},
     "output_type": "execute_result"
    }
   ],
   "source": [
    "np.argmax(predictions_single[0])"
   ]
  },
  {
   "cell_type": "markdown",
   "metadata": {},
   "source": [
    "E, como antes, o modelo previu a label como 9."
   ]
  },
  {
   "cell_type": "markdown",
   "metadata": {},
   "source": [
    "Esse tutorial usa a base de dados [Fashion MNIST](https://github.com/zalandoresearch/fashion-mnist) que contém $70~000$ imagens em tons de cinza em $10$ categorias. As imagens mostram artigos individuais de roupas com baixa resolução ($28$ por $28$ pixels), como vemos aqui: [Amostras de Fashion-MNIST](https://github.com/zalandoresearch/fashion-mnist)\n",
    "\n",
    "\n",
    "Fashion MNIST tem como intenção substituir a clássica base de dados [MNIST](http://yann.lecun.com/exdb/mnist/)— frequentemente usada como \"_Hello, World_\" de programas de aprendizado de máquina (_machine learning_) para visão computacional. A base de dados **MNIST** contém imagens de dígitos escritos à mão (0, 1, 2, etc.) em um formato idêntico ao dos artigos de roupas que usaremos aqui.\n",
    "\n",
    "Esse tutorial usa a Fashion MNIST para variar, e porque é um problema um pouco mais desafiador que o regular MNIST. Ambas bases são relativamente pequenas e são usadas para verificar se um algoritmo funciona como esperado. Elas são bons pontos de partida para testar e debugar código.\n",
    "\n",
    "Usaremos $60~000$ imagens para treinar nossa rede e $10~000$ imagens para avaliar quão precisamente nossa rede aprendeu a classificar as imagens. Você pode acessar a Fashion MNIST directly diretamente do TensorFlow. Importe e carregue a base Fashion MNIST diretamente do TensorFlow."
   ]
  },
  {
   "cell_type": "code",
   "execution_count": null,
   "metadata": {},
   "outputs": [],
   "source": []
  },
  {
   "cell_type": "code",
   "execution_count": null,
   "metadata": {},
   "outputs": [],
   "source": []
  },
  {
   "cell_type": "code",
   "execution_count": null,
   "metadata": {},
   "outputs": [],
   "source": []
  },
  {
   "cell_type": "code",
   "execution_count": null,
   "metadata": {},
   "outputs": [],
   "source": []
  },
  {
   "cell_type": "code",
   "execution_count": null,
   "metadata": {},
   "outputs": [],
   "source": []
  },
  {
   "cell_type": "code",
   "execution_count": null,
   "metadata": {},
   "outputs": [],
   "source": []
  },
  {
   "cell_type": "code",
   "execution_count": null,
   "metadata": {},
   "outputs": [],
   "source": []
  },
  {
   "cell_type": "code",
   "execution_count": null,
   "metadata": {},
   "outputs": [],
   "source": []
  },
  {
   "cell_type": "code",
   "execution_count": null,
   "metadata": {},
   "outputs": [],
   "source": []
  },
  {
   "cell_type": "code",
   "execution_count": null,
   "metadata": {},
   "outputs": [],
   "source": []
  }
 ],
 "metadata": {
  "kernelspec": {
   "display_name": "Python 3",
   "language": "python",
   "name": "python3"
  },
  "language_info": {
   "codemirror_mode": {
    "name": "ipython",
    "version": 3
   },
   "file_extension": ".py",
   "mimetype": "text/x-python",
   "name": "python",
   "nbconvert_exporter": "python",
   "pygments_lexer": "ipython3",
   "version": "3.7.4"
  }
 },
 "nbformat": 4,
 "nbformat_minor": 2
}
